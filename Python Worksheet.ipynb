{
 "cells": [
  {
   "cell_type": "markdown",
   "metadata": {},
   "source": [
    "# Finding Factorial of a number"
   ]
  },
  {
   "cell_type": "code",
   "execution_count": 8,
   "metadata": {},
   "outputs": [],
   "source": [
    "import math\n"
   ]
  },
  {
   "cell_type": "code",
   "execution_count": 10,
   "metadata": {},
   "outputs": [
    {
     "name": "stdout",
     "output_type": "stream",
     "text": [
      "Enter non negative integer: 5\n",
      "Factorial of number 5 is 120\n"
     ]
    }
   ],
   "source": [
    "def factorial(a):\n",
    "    return (math.factorial(a))\n",
    "a=int(input('Enter non negative integer: '))\n",
    "f=factorial(a)\n",
    "print('Factorial of number',a,'is',f)"
   ]
  },
  {
   "cell_type": "markdown",
   "metadata": {},
   "source": [
    "# Finding if a number is prime or composite"
   ]
  },
  {
   "cell_type": "code",
   "execution_count": 14,
   "metadata": {},
   "outputs": [
    {
     "name": "stdout",
     "output_type": "stream",
     "text": [
      "Enter number: 6\n",
      "It is not prime number\n"
     ]
    }
   ],
   "source": [
    "a=int(input('Enter number: '))\n",
    "b=0\n",
    "for i in range(2,(a//2+1)):\n",
    "    if(a%1==0):\n",
    "        b=b+1\n",
    "        break\n",
    "if(b==0 and a!=0):\n",
    "    print('it is a prime number')\n",
    "else:\n",
    "    print('It is not prime number')"
   ]
  },
  {
   "cell_type": "markdown",
   "metadata": {},
   "source": [
    "#  Program to Check a Given String is Palindrome"
   ]
  },
  {
   "cell_type": "code",
   "execution_count": 22,
   "metadata": {},
   "outputs": [
    {
     "name": "stdout",
     "output_type": "stream",
     "text": [
      "Enter String only: MOM\n"
     ]
    }
   ],
   "source": [
    "s=input('Enter String only: ')"
   ]
  },
  {
   "cell_type": "code",
   "execution_count": 23,
   "metadata": {},
   "outputs": [
    {
     "name": "stdout",
     "output_type": "stream",
     "text": [
      "It is a palindrome string\n"
     ]
    }
   ],
   "source": [
    "if(s==s[::-1]):\n",
    "    print('It is a palindrome string')\n",
    "else:\n",
    "    print('it is not palindrome string')"
   ]
  },
  {
   "cell_type": "markdown",
   "metadata": {},
   "source": [
    "# Program to find third side of right angled triangle\n"
   ]
  },
  {
   "cell_type": "code",
   "execution_count": 26,
   "metadata": {},
   "outputs": [
    {
     "name": "stdout",
     "output_type": "stream",
     "text": [
      "Hypo = 5.0\n",
      "Adjacent side is = 4.0\n",
      "Opposite side is = 3.0\n",
      "Everything known\n"
     ]
    }
   ],
   "source": [
    "def side(opp,adj,hypo):\n",
    "        if opp == str(\"x\"):\n",
    "            return (\"Opposite side is = \" + str(((hypo**2) - (adj**2))**0.5))\n",
    "        elif adj == str(\"x\"):\n",
    "            return (\"Adjacent side is = \" + str(((hypo**2) - (opp**2))**0.5))\n",
    "        elif hypo == str(\"x\"):\n",
    "            return (\"Hypo = \" + str(((opp**2) + (adj**2))**0.5))\n",
    "        else:\n",
    "            return \"Everything known\"\n",
    "    \n",
    "print(side(3,4,'x'))\n",
    "print(side(3,'x',5))\n",
    "print(side('x',4,5))\n",
    "print(side(3,4,5))"
   ]
  },
  {
   "cell_type": "markdown",
   "metadata": {},
   "source": [
    "# Calculating frequency of characters in string"
   ]
  },
  {
   "cell_type": "code",
   "execution_count": 30,
   "metadata": {},
   "outputs": [
    {
     "name": "stdout",
     "output_type": "stream",
     "text": [
      "Enter String Lambda\n"
     ]
    }
   ],
   "source": [
    "c=str(input('Enter String '))"
   ]
  },
  {
   "cell_type": "code",
   "execution_count": 34,
   "metadata": {},
   "outputs": [
    {
     "name": "stdout",
     "output_type": "stream",
     "text": [
      "Enter the charater to find its frequency a\n"
     ]
    }
   ],
   "source": [
    "f=str(input('Enter the charater to find its frequency '))"
   ]
  },
  {
   "cell_type": "code",
   "execution_count": 35,
   "metadata": {},
   "outputs": [],
   "source": [
    "frequency=c.count(f)"
   ]
  },
  {
   "cell_type": "code",
   "execution_count": 36,
   "metadata": {},
   "outputs": [
    {
     "name": "stdout",
     "output_type": "stream",
     "text": [
      "Frequency of character  a in string  Lambda is 2\n"
     ]
    }
   ],
   "source": [
    "print('Frequency of character ',f,'in string ',c,'is',frequency)"
   ]
  },
  {
   "cell_type": "code",
   "execution_count": null,
   "metadata": {},
   "outputs": [],
   "source": []
  }
 ],
 "metadata": {
  "kernelspec": {
   "display_name": "Python 3",
   "language": "python",
   "name": "python3"
  },
  "language_info": {
   "codemirror_mode": {
    "name": "ipython",
    "version": 3
   },
   "file_extension": ".py",
   "mimetype": "text/x-python",
   "name": "python",
   "nbconvert_exporter": "python",
   "pygments_lexer": "ipython3",
   "version": "3.8.3"
  }
 },
 "nbformat": 4,
 "nbformat_minor": 4
}
